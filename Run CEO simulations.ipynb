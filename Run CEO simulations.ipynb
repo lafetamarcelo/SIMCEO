{
 "cells": [
  {
   "cell_type": "code",
   "execution_count": 1,
   "metadata": {},
   "outputs": [],
   "source": [
    "\n",
    "import matplotlib.pyplot as plt\n",
    "from jupyterthemes import jtplot\n",
    "jtplot.style(context='talk', fscale=1.4, spines=False, gridlines='--')\n",
    "\n",
    "import dos\n"
   ]
  },
  {
   "cell_type": "code",
   "execution_count": 2,
   "metadata": {},
   "outputs": [
    {
     "name": "stderr",
     "output_type": "stream",
     "text": [
      "INFO:DOS:Reading config from ./dos/BendingModes/dos.yaml\n",
      "INFO:DOS:New driver: wind_loads\n",
      "INFO:wind_loads:New output: Gravity\n",
      "INFO:wind_loads:New output: Distributed\n",
      "INFO:wind_loads:New output: TopEnd\n",
      "INFO:wind_loads:New output: Truss\n",
      "INFO:wind_loads:New output: GIR\n",
      "INFO:wind_loads:New output: CRING\n",
      "INFO:wind_loads:New output: M1\n",
      "INFO:wind_loads:New output: M1Cell\n",
      "INFO:wind_loads:New output: M2\n",
      "INFO:wind_loads:New output: M2Cell\n",
      "INFO:DOS:New driver: FEM\n",
      "INFO:FEM:New input: OSS_Grav_CS0\n",
      "INFO:FEM:New input: OSS_M1_lcl_6F\n",
      "INFO:FEM:New input: OSS_Cell_lcl_6F\n",
      "INFO:FEM:New input: OSS_CRING_6F\n",
      "INFO:FEM:New input: OSS_TopEnd_6F\n",
      "INFO:FEM:New input: OSS_GIR_6F\n",
      "INFO:FEM:New input: OSS_Truss_6F\n",
      "INFO:FEM:New input: MC_M2_lcl_force_6F\n",
      "INFO:FEM:New input: MC_M2_MacroCell_F_6d\n",
      "INFO:FEM:New input: M1_distributed_windF\n",
      "INFO:FEM:New output: Bending_modes\n",
      "INFO:FEM:Output logged in!\n",
      "INFO:Gravity:Linked to OSS_Grav_CS0 from FEM\n",
      "INFO:Distributed:Linked to M1_distributed_windF from FEM\n",
      "INFO:TopEnd:Linked to OSS_TopEnd_6F from FEM\n",
      "INFO:Truss:Linked to OSS_Truss_6F from FEM\n",
      "INFO:GIR:Linked to OSS_GIR_6F from FEM\n",
      "INFO:CRING:Linked to OSS_CRING_6F from FEM\n",
      "INFO:M1:Linked to OSS_M1_lcl_6F from FEM\n",
      "INFO:M1Cell:Linked to OSS_Cell_lcl_6F from FEM\n",
      "INFO:M2:Linked to MC_M2_lcl_force_6F from FEM\n",
      "INFO:M2Cell:Linked to MC_M2_MacroCell_F_6d from FEM\n",
      "INFO:DOS:Simulation setup for a duration of 10s @ 2000Hz (20000 steps)!\n"
     ]
    },
    {
     "name": "stdout",
     "output_type": "stream",
     "text": [
      "SIMCEO server received: Acknowledging connection from SIMCEO client!\n"
     ]
    }
   ],
   "source": [
    "\n",
    "simulation_path = './dos/BendingModes'\n",
    "sim = dos.DOS(simulation_path, show_timing = 2)\n"
   ]
  },
  {
   "cell_type": "code",
   "execution_count": 3,
   "metadata": {},
   "outputs": [
    {
     "name": "stderr",
     "output_type": "stream",
     "text": [
      "INFO:DOS:Pushing configuration to server\n",
      "INFO:wind_loads:WindLoad\n",
      "INFO:FEM:FEM\n",
      "INFO:DOS:Initializing\n",
      "INFO:wind_loads:None\n",
      "INFO:FEM:The server has failed!\n",
      "INFO:DOS:Running\n"
     ]
    }
   ],
   "source": [
    "\n",
    "sim.start()\n"
   ]
  },
  {
   "cell_type": "code",
   "execution_count": null,
   "metadata": {},
   "outputs": [],
   "source": [
    "\n",
    "sim.pctComplete\n"
   ]
  },
  {
   "cell_type": "markdown",
   "metadata": {},
   "source": [
    "### Read and plot LOS data\n",
    "\n",
    "---\n"
   ]
  },
  {
   "cell_type": "code",
   "execution_count": null,
   "metadata": {},
   "outputs": [],
   "source": [
    "import pickle\n",
    "import numpy as np\n",
    "import scipy.io as sio\n",
    "\n",
    "file_path = \"../CUDAIMS-NSEE/datafiles/CUDAIMSsysDt/memorymaps/dgnf.dat\"\n",
    "dgnf_mm = np.memmap(file_path, dtype=np.float32, mode='r+', shape=(21,84))\n",
    "dgnf = dgnf_mm.view(dtype = np.float32, type = np.ndarray)\n",
    "\n",
    "OSS_M1_LOS = sim.logs.entries['FEM']['OSS_M1_LOS'].timeSeries[1].T\n",
    "MC_M2_LOS_6D = sim.logs.entries['FEM']['MC_M2_LOS_6D'].timeSeries[1].T\n",
    "\n",
    "dec = 10\n",
    "dt  = OSS_M1_LOS.shape[1]\n",
    "nt  = dt // dec\n",
    "\n",
    "LOS_outs = np.memmap('./LOS.dat', dtype=np.float32, mode='w+', shape=(21,dt))\n",
    "for k in range(dec):\n",
    "    ki, kii = nt * k, nt * (k + 1)\n",
    "    if kii < dt:\n",
    "        outs = np.concatenate((OSS_M1_LOS[:,ki:kii], MC_M2_LOS_6D[:,ki:kii]), axis=0)\n",
    "    else:\n",
    "        outs = np.concatenate((OSS_M1_LOS[:,ki:], MC_M2_LOS_6D[:,ki:]), axis=0)\n",
    "    los  = dgnf @ outs \n",
    "    LOS_outs[:,ki:kii] = los[:,:]\n",
    "    \n",
    "LOS_sim = sio.loadmat('./LOS.mat')['outs']"
   ]
  },
  {
   "cell_type": "code",
   "execution_count": null,
   "metadata": {},
   "outputs": [],
   "source": [
    "index = 5\n",
    "\n",
    "signal = LOS_outs[index, :10000]\n",
    "sim_signal = LOS_sim[index, :10000]\n",
    "\n",
    "plt.figure(figsize = (26,18))\n",
    "plt.plot(signal, lw = 3.0)\n",
    "plt.plot(sim_signal, lw = 1.3)\n",
    "plt.show()"
   ]
  },
  {
   "cell_type": "markdown",
   "metadata": {},
   "source": [
    "### Plotting simulation logs\n",
    "\n",
    "---\n",
    "\n",
    "Specifically plot the bending modes outputs\n"
   ]
  },
  {
   "cell_type": "code",
   "execution_count": null,
   "metadata": {},
   "outputs": [],
   "source": [
    "plt.figure(figsize = (16,8))\n",
    "plt.plot(*sim.logs.entries['FEM']['Bending_modes'].timeSeries)\n",
    "plt.show()"
   ]
  },
  {
   "cell_type": "markdown",
   "metadata": {},
   "source": [
    "### Save a particular output in memory map\n",
    "\n",
    "---"
   ]
  },
  {
   "cell_type": "code",
   "execution_count": null,
   "metadata": {},
   "outputs": [],
   "source": [
    "signal_values.shape"
   ]
  },
  {
   "cell_type": "code",
   "execution_count": null,
   "metadata": {},
   "outputs": [],
   "source": [
    "import numpy as np\n",
    "\n",
    "signal_name   = 'bendingmodes_SS'\n",
    "signal_values = sim.logs.entries['FEM']['Bending_modes'].timeSeries[1]\n",
    "\n",
    "saved_mem_map = np.memmap('./variables/'+signal_name+'.dat', dtype=np.float32, mode='w+', shape=signal_values.shape)\n",
    "saved_mem_map[:,:] = signal_values[:,:]\n",
    "del saved_mem_map"
   ]
  },
  {
   "cell_type": "markdown",
   "metadata": {},
   "source": [
    "### Infomation analysis of the bending modes outputs\n",
    "\n",
    "---\n",
    "\n"
   ]
  },
  {
   "cell_type": "code",
   "execution_count": null,
   "metadata": {},
   "outputs": [],
   "source": [
    "import numpy as np\n",
    "\n",
    "shape__ = (20000, 1144)\n",
    "bm_ssr = np.memmap('./variables/bendingmodes_SS.dat', dtype=np.float32, mode='r+', shape=shape__)\n",
    "bm_stf = np.memmap('./variables/bendingmodes_ST.dat', dtype=np.float32, mode='r+', shape=shape__)\n",
    "\n",
    "index = 15\n",
    "\n",
    "plt.figure(figsize=(16,8))\n",
    "plt.plot(bm_ssr[:,index], '-', label='Steady State Response')\n",
    "plt.plot(bm_stf[:,index], '--', label='Stiffness Matrix')\n",
    "plt.legend()\n",
    "plt.show()\n"
   ]
  },
  {
   "cell_type": "markdown",
   "metadata": {},
   "source": [
    "### Terminate the simulation\n",
    "\n",
    "---"
   ]
  },
  {
   "cell_type": "code",
   "execution_count": null,
   "metadata": {},
   "outputs": [],
   "source": [
    "sim.terminate"
   ]
  },
  {
   "cell_type": "markdown",
   "metadata": {},
   "source": [
    "## Current Developments\n",
    "\n",
    "---\n",
    "\n",
    "### Bending mode validation\n",
    "\n",
    "Here one wanna compare the displacements computed from the simulated bending modes, and the displacements simulated with FEM. Therefore, one might read the states saved and compute the displacements"
   ]
  },
  {
   "cell_type": "code",
   "execution_count": null,
   "metadata": {},
   "outputs": [],
   "source": [
    "\n",
    "import numpy as np\n",
    "import scipy.io as sio\n",
    "\n",
    "from utils import LargeCompute\n"
   ]
  },
  {
   "cell_type": "code",
   "execution_count": null,
   "metadata": {},
   "outputs": [],
   "source": [
    "\n",
    "shape_st_ = (11000,20000)\n",
    "states = np.memmap('./variables/states.dat', dtype=np.float32, mode='r+', shape=shape_st_)\n",
    "\n",
    "C = sio.loadmat('../database/matmodels/consolidated_withSSBM.mat')['C']\n",
    "\n",
    "\n",
    "data = sio.loadmat('./dos/BendingModes/FEM_IO_WBM.mat')\n",
    "fem_outputs=[(x[0][0],y[0]) for x,y in zip(data['FEM_IO']['outputs_name'][0,0],data['FEM_IO']['outputs_size'][0][0])]\n",
    "\n",
    "i_sum = 0\n",
    "for k in fem_outputs:\n",
    "    if k[0] != 'M1_surfaces_d':\n",
    "        if k[0] != 'Bending_modes':\n",
    "            i_sum += k[1]\n",
    "    else:\n",
    "        ref_size = k[1]\n",
    "i_, ii_ = i_sum, i_sum + ref_size\n",
    "\n",
    "\n",
    "C = C[i_:ii_,:]\n",
    "\n",
    "indexes = range(2,C.shape[0],3)\n",
    "C = C[indexes, :]\n",
    "\n",
    "\n",
    "lc = LargeCompute()\n",
    "displacements_ptt = lc.dot_time(C, states)"
   ]
  },
  {
   "cell_type": "code",
   "execution_count": null,
   "metadata": {},
   "outputs": [],
   "source": [
    "\n",
    "shape_bm_ = (20000, 1144)\n",
    "bending_modes = np.memmap('./variables/bendingmodes_SS.dat', dtype=np.float32, mode='r+', shape=shape_bm_)\n",
    "\n",
    "#shape_dp_ = (20000, 5127)\n",
    "#displacements = np.memmap('./variables/displacements.dat', dtype=np.float64, mode='r+', shape=shape_dp_)"
   ]
  },
  {
   "cell_type": "markdown",
   "metadata": {},
   "source": [
    "Read the transformation matrix"
   ]
  },
  {
   "cell_type": "code",
   "execution_count": null,
   "metadata": {},
   "outputs": [],
   "source": [
    "import scipy.io as sio\n",
    "\n",
    "U_ = sio.loadmat('./variables/auxiliar/SSBM_transformation_matrices.mat')['U_']\n",
    "\n",
    "Q_ = sio.loadmat('./variables/auxiliar/SSBM_transformation_matrices.mat')['Q_']\n"
   ]
  },
  {
   "cell_type": "markdown",
   "metadata": {},
   "source": [
    "Recover the displacements from bending modes:"
   ]
  },
  {
   "cell_type": "code",
   "execution_count": null,
   "metadata": {},
   "outputs": [],
   "source": [
    "shape_dp_ = (5127, 20000)\n",
    "\n",
    "lc = LargeCompute()\n",
    "\n",
    "bm_displacements = np.memmap('./variables/bm_displacements_.dat', dtype=np.float32, mode='w+', shape=shape_dp_)\n",
    "displacements = np.memmap('./variables/displacements_.dat', dtype=np.float32, mode='w+', shape=shape_dp_)\n",
    "for k in range(U_.shape[0]):\n",
    "    i = k * 165\n",
    "    ki = k * 742\n",
    "    if k != U_.shape[0]-1:\n",
    "        ii = (k + 1) * 165 \n",
    "        kii = (k + 1) * 742\n",
    "    else:\n",
    "        ii = i + 154\n",
    "        kii = ki + 675\n",
    "    bm_displacements[ki:kii,:] = lc.bm_to_disp_time(U_[k,0], bending_modes[:,i:ii].T)\n",
    "    displacements[ki:kii,:] = lc.remove_ptt_from_disp(Q_[k,0], displacements_ptt[ki:kii,:])\n",
    "\n",
    "print('Simulated displacements shape: ', displacements.shape)\n",
    "print('Bending modes displacements shape: ', bm_displacements.shape)"
   ]
  },
  {
   "cell_type": "code",
   "execution_count": null,
   "metadata": {},
   "outputs": [],
   "source": [
    "import scipy.linalg as sli\n",
    "\n",
    "def remove_ptt(ptt, displacements, vartype=np.float32):\n",
    "\n",
    "    #    get the shape of the displacements\n",
    "    _size = displacements.shape\n",
    "    result = np.zeros(_size)\n",
    "    for k in range(_size[1]):\n",
    "        _ptt = sli.lstsq(ptt, displacements[:,k])[0]\n",
    "        print(displacements[:,k].shape, _ptt.shape, ptt.shape)\n",
    "        result[:,k] = displacements[:,k] - np.dot(ptt, np.array(_ptt))\n",
    "\n",
    "    return result"
   ]
  },
  {
   "cell_type": "code",
   "execution_count": null,
   "metadata": {},
   "outputs": [],
   "source": [
    "import matplotlib.pyplot as plt\n",
    "from jupyterthemes import jtplot\n",
    "jtplot.style(context='talk', fscale=1.4, spines=False, gridlines='--')\n",
    "\n",
    "index = 1000\n",
    "\n",
    "plt.figure(figsize=(16,8))\n",
    "plt.plot(displacements_ptt[index,:])\n",
    "plt.show()\n"
   ]
  },
  {
   "cell_type": "code",
   "execution_count": null,
   "metadata": {},
   "outputs": [],
   "source": [
    "displacements_ptt.shape"
   ]
  },
  {
   "cell_type": "code",
   "execution_count": null,
   "metadata": {},
   "outputs": [],
   "source": [
    "import matplotlib.pyplot as plt\n",
    "from jupyterthemes import jtplot\n",
    "jtplot.style(context='talk', fscale=1.4, spines=False, gridlines='--')\n",
    "\n",
    "index = 50\n",
    "\n",
    "plt.figure(figsize=(16,16))\n",
    "plt.subplot(3,1,1)\n",
    "plt.plot(displacements[index,:], '-', c='C1', label='Simulated without PTT')\n",
    "plt.legend()\n",
    "plt.subplot(3,1,2)\n",
    "plt.plot(bm_displacements[index,:], c='C2', label='From bending modes')\n",
    "plt.legend()\n",
    "plt.subplot(3,1,3)\n",
    "plt.plot(displacements_ptt[index,:],'-', c='C3', label='Simulated with PTT')\n",
    "plt.legend()\n",
    "plt.show()"
   ]
  },
  {
   "cell_type": "code",
   "execution_count": null,
   "metadata": {},
   "outputs": [],
   "source": []
  },
  {
   "cell_type": "code",
   "execution_count": null,
   "metadata": {},
   "outputs": [],
   "source": [
    "plt.figure(figsize=(16,64))\n",
    "plt.matshow(U_[0,0], 0)\n",
    "plt.show()"
   ]
  }
 ],
 "metadata": {
  "kernelspec": {
   "display_name": "Python 3",
   "language": "python",
   "name": "python3"
  },
  "language_info": {
   "codemirror_mode": {
    "name": "ipython",
    "version": 3
   },
   "file_extension": ".py",
   "mimetype": "text/x-python",
   "name": "python",
   "nbconvert_exporter": "python",
   "pygments_lexer": "ipython3",
   "version": "3.7.3"
  }
 },
 "nbformat": 4,
 "nbformat_minor": 2
}
