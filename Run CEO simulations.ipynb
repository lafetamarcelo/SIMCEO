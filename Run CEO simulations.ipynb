{
 "cells": [
  {
   "cell_type": "code",
   "execution_count": null,
   "metadata": {},
   "outputs": [],
   "source": [
    "import matplotlib.pyplot as plt\n",
    "from jupyterthemes import jtplot\n",
    "jtplot.style(context='talk', fscale=1.4, spines=False, gridlines='--')\n",
    "\n",
    "import dos\n"
   ]
  },
  {
   "cell_type": "code",
   "execution_count": null,
   "metadata": {},
   "outputs": [],
   "source": [
    "\n",
    "simulation_path = './dos/BendingModes'\n",
    "sim = dos.DOS(simulation_path, show_timing=2)\n"
   ]
  },
  {
   "cell_type": "code",
   "execution_count": null,
   "metadata": {},
   "outputs": [],
   "source": [
    "\n",
    "sim.start()\n"
   ]
  },
  {
   "cell_type": "code",
   "execution_count": null,
   "metadata": {},
   "outputs": [],
   "source": [
    "\n",
    "sim.pctComplete\n"
   ]
  },
  {
   "cell_type": "markdown",
   "metadata": {},
   "source": [
    "### Read and plot LOS data\n",
    "\n",
    "---\n"
   ]
  },
  {
   "cell_type": "code",
   "execution_count": null,
   "metadata": {},
   "outputs": [],
   "source": [
    "import pickle\n",
    "import numpy as np\n",
    "import scipy.io as sio\n",
    "\n",
    "file_path = \"../CUDAIMS-NSEE/datafiles/CUDAIMSsysDt/memorymaps/dgnf.dat\"\n",
    "dgnf_mm = np.memmap(file_path, dtype=np.float32, mode='r+', shape=(21,84))\n",
    "dgnf = dgnf_mm.view(dtype = np.float32, type = np.ndarray)\n",
    "\n",
    "OSS_M1_LOS = sim.logs.entries['FEM']['OSS_M1_LOS'].timeSeries[1].T\n",
    "MC_M2_LOS_6D = sim.logs.entries['FEM']['MC_M2_LOS_6D'].timeSeries[1].T\n",
    "\n",
    "dec = 10\n",
    "dt  = OSS_M1_LOS.shape[1]\n",
    "nt  = dt // dec\n",
    "\n",
    "LOS_outs = np.memmap('./LOS.dat', dtype=np.float32, mode='w+', shape=(21,dt))\n",
    "for k in range(dec):\n",
    "    ki, kii = nt * k, nt * (k + 1)\n",
    "    if kii < dt:\n",
    "        outs = np.concatenate((OSS_M1_LOS[:,ki:kii], MC_M2_LOS_6D[:,ki:kii]), axis=0)\n",
    "    else:\n",
    "        outs = np.concatenate((OSS_M1_LOS[:,ki:], MC_M2_LOS_6D[:,ki:]), axis=0)\n",
    "    los  = dgnf @ outs \n",
    "    LOS_outs[:,ki:kii] = los[:,:]\n",
    "    \n",
    "LOS_sim = sio.loadmat('./LOS.mat')['outs']"
   ]
  },
  {
   "cell_type": "code",
   "execution_count": null,
   "metadata": {},
   "outputs": [],
   "source": [
    "index = 5\n",
    "\n",
    "signal = LOS_outs[index, :10000]\n",
    "sim_signal = LOS_sim[index, :10000]\n",
    "\n",
    "plt.figure(figsize = (26,18))\n",
    "plt.plot(signal, lw = 3.0)\n",
    "plt.plot(sim_signal, lw = 1.3)\n",
    "plt.show()"
   ]
  },
  {
   "cell_type": "markdown",
   "metadata": {},
   "source": [
    "### Plotting simulation logs\n",
    "\n",
    "---\n",
    "\n",
    "Specifically plot the bending modes outputs\n"
   ]
  },
  {
   "cell_type": "code",
   "execution_count": null,
   "metadata": {},
   "outputs": [],
   "source": [
    "plt.figure(figsize = (16,8))\n",
    "plt.plot(*sim.logs.entries['FEM']['Bending_modes'].timeSeries)\n",
    "plt.show()"
   ]
  },
  {
   "cell_type": "markdown",
   "metadata": {},
   "source": [
    "### Save a particular output in memory map\n",
    "\n",
    "---"
   ]
  },
  {
   "cell_type": "code",
   "execution_count": null,
   "metadata": {},
   "outputs": [],
   "source": [
    "signal_values.shape"
   ]
  },
  {
   "cell_type": "code",
   "execution_count": null,
   "metadata": {},
   "outputs": [],
   "source": [
    "import numpy as np\n",
    "\n",
    "signal_name   = 'bendingmodes_SS'\n",
    "signal_values = sim.logs.entries['FEM']['Bending_modes'].timeSeries[1]\n",
    "\n",
    "saved_mem_map = np.memmap('./variables/'+signal_name+'.dat', dtype=np.float32, mode='w+', shape=signal_values.shape)\n",
    "saved_mem_map[:,:] = signal_values[:,:]\n",
    "del saved_mem_map"
   ]
  },
  {
   "cell_type": "markdown",
   "metadata": {},
   "source": [
    "### Infomation analysis of the bending modes outputs\n",
    "\n",
    "---\n",
    "\n"
   ]
  },
  {
   "cell_type": "code",
   "execution_count": null,
   "metadata": {},
   "outputs": [],
   "source": [
    "import numpy as np\n",
    "\n",
    "shape__ = (20000, 1144)\n",
    "bm_ssr = np.memmap('./variables/bendingmodes_SS.dat', dtype=np.float32, mode='r+', shape=shape__)\n",
    "bm_stf = np.memmap('./variables/bendingmodes_ST.dat', dtype=np.float32, mode='r+', shape=shape__)\n",
    "\n",
    "index = 15\n",
    "\n",
    "plt.figure(figsize=(16,8))\n",
    "plt.plot(bm_ssr[:,index], '-', label='Steady State Response')\n",
    "plt.plot(bm_stf[:,index], '--', label='Stiffness Matrix')\n",
    "plt.legend()\n",
    "plt.show()\n"
   ]
  },
  {
   "cell_type": "markdown",
   "metadata": {},
   "source": [
    "### Terminate the simulation\n",
    "\n",
    "---"
   ]
  },
  {
   "cell_type": "code",
   "execution_count": null,
   "metadata": {},
   "outputs": [],
   "source": [
    "sim.terminate"
   ]
  },
  {
   "cell_type": "code",
   "execution_count": null,
   "metadata": {},
   "outputs": [],
   "source": [
    "\n",
    "import numpy as np\n",
    "import scipy.io as sio\n",
    "\n",
    "from utils import LargeCompute\n"
   ]
  },
  {
   "cell_type": "code",
   "execution_count": null,
   "metadata": {},
   "outputs": [],
   "source": [
    "\n",
    "shape_st_ = (11000,20000)\n",
    "states = np.memmap('./variables/states.dat', dtype=np.float32, mode='r+', shape=shape_st_)\n",
    "\n",
    "C = sio.loadmat('../database/matmodels/consolidated_withSSBM.mat')['C']\n",
    "\n",
    "\n",
    "data = sio.loadmat('./dos/BendingModes/FEM_IO_WBM.mat')\n",
    "fem_outputs=[(x[0][0],y[0]) for x,y in zip(data['FEM_IO']['outputs_name'][0,0],data['FEM_IO']['outputs_size'][0][0])]\n",
    "\n",
    "i_sum = 0\n",
    "for k in fem_outputs:\n",
    "    if k[0] != 'M1_surfaces_d':\n",
    "        if k[0] != 'Bending_modes':\n",
    "            i_sum += k[1]\n",
    "    else:\n",
    "        ref_size = k[1]\n",
    "i_, ii_ = i_sum, i_sum + ref_size\n",
    "\n",
    "\n",
    "C = C[i_:ii_,:]\n",
    "\n",
    "indexes = range(2,C.shape[0],3)\n",
    "C = C[indexes, :]\n",
    "\n",
    "\n",
    "lc = LargeCompute()\n",
    "displacements_ptt = lc.dot_time(C, states)"
   ]
  },
  {
   "cell_type": "code",
   "execution_count": null,
   "metadata": {},
   "outputs": [],
   "source": [
    "\n",
    "shape_bm_ = (20000, 1144)\n",
    "bending_modes = np.memmap('./variables/bendingmodes_SS.dat', dtype=np.float32, mode='r+', shape=shape_bm_)\n",
    "\n",
    "#shape_dp_ = (20000, 5127)\n",
    "#displacements = np.memmap('./variables/displacements.dat', dtype=np.float64, mode='r+', shape=shape_dp_)"
   ]
  },
  {
   "cell_type": "markdown",
   "metadata": {},
   "source": [
    "Read the transformation matrix"
   ]
  },
  {
   "cell_type": "code",
   "execution_count": null,
   "metadata": {},
   "outputs": [],
   "source": [
    "import scipy.io as sio\n",
    "\n",
    "U_ = sio.loadmat('./variables/auxiliar/SSBM_transformation_matrices.mat')['U_']\n",
    "\n",
    "Q_ = sio.loadmat('./variables/auxiliar/SSBM_transformation_matrices.mat')['Q_']\n"
   ]
  },
  {
   "cell_type": "markdown",
   "metadata": {},
   "source": [
    "Recover the displacements from bending modes:"
   ]
  },
  {
   "cell_type": "code",
   "execution_count": null,
   "metadata": {},
   "outputs": [],
   "source": [
    "shape_dp_ = (5127, 20000)\n",
    "\n",
    "lc = LargeCompute()\n",
    "\n",
    "bm_displacements = np.memmap('./variables/bm_displacements_.dat', dtype=np.float32, mode='w+', shape=shape_dp_)\n",
    "displacements = np.memmap('./variables/displacements_.dat', dtype=np.float32, mode='w+', shape=shape_dp_)\n",
    "for k in range(U_.shape[0]):\n",
    "    i = k * 165\n",
    "    ki = k * 742\n",
    "    if k != U_.shape[0]-1:\n",
    "        ii = (k + 1) * 165 \n",
    "        kii = (k + 1) * 742\n",
    "    else:\n",
    "        ii = i + 154\n",
    "        kii = ki + 675\n",
    "    bm_displacements[ki:kii,:] = lc.bm_to_disp_time(U_[k,0], bending_modes[:,i:ii].T)\n",
    "    displacements[ki:kii,:] = lc.remove_ptt_from_disp(Q_[k,0], displacements_ptt[ki:kii,:])\n",
    "\n",
    "print('Simulated displacements shape: ', displacements.shape)\n",
    "print('Bending modes displacements shape: ', bm_displacements.shape)"
   ]
  },
  {
   "cell_type": "code",
   "execution_count": null,
   "metadata": {},
   "outputs": [],
   "source": [
    "import scipy.linalg as sli\n",
    "\n",
    "def remove_ptt(ptt, displacements, vartype=np.float32):\n",
    "\n",
    "    #    get the shape of the displacements\n",
    "    _size = displacements.shape\n",
    "    result = np.zeros(_size)\n",
    "    for k in range(_size[1]):\n",
    "        _ptt = sli.lstsq(ptt, displacements[:,k])[0]\n",
    "        print(displacements[:,k].shape, _ptt.shape, ptt.shape)\n",
    "        result[:,k] = displacements[:,k] - np.dot(ptt, np.array(_ptt))\n",
    "\n",
    "    return result"
   ]
  },
  {
   "cell_type": "code",
   "execution_count": null,
   "metadata": {},
   "outputs": [],
   "source": [
    "import matplotlib.pyplot as plt\n",
    "from jupyterthemes import jtplot\n",
    "jtplot.style(context='talk', fscale=1.4, spines=False, gridlines='--')\n",
    "\n",
    "index = 1000\n",
    "\n",
    "plt.figure(figsize=(16,8))\n",
    "plt.plot(displacements_ptt[index,:])\n",
    "plt.show()\n"
   ]
  },
  {
   "cell_type": "code",
   "execution_count": null,
   "metadata": {},
   "outputs": [],
   "source": [
    "displacements_ptt.shape"
   ]
  },
  {
   "cell_type": "code",
   "execution_count": null,
   "metadata": {},
   "outputs": [],
   "source": [
    "import matplotlib.pyplot as plt\n",
    "from jupyterthemes import jtplot\n",
    "jtplot.style(context='talk', fscale=1.4, spines=False, gridlines='--')\n",
    "\n",
    "index = 50\n",
    "\n",
    "plt.figure(figsize=(16,16))\n",
    "plt.subplot(3,1,1)\n",
    "plt.plot(displacements[index,:], '-', c='C1', label='Simulated without PTT')\n",
    "plt.legend()\n",
    "plt.subplot(3,1,2)\n",
    "plt.plot(bm_displacements[index,:], c='C2', label='From bending modes')\n",
    "plt.legend()\n",
    "plt.subplot(3,1,3)\n",
    "plt.plot(displacements_ptt[index,:],'-', c='C3', label='Simulated with PTT')\n",
    "plt.legend()\n",
    "plt.show()"
   ]
  },
  {
   "cell_type": "markdown",
   "metadata": {},
   "source": [
    "## Create displacements and PTT movie\n",
    "---"
   ]
  },
  {
   "cell_type": "code",
   "execution_count": null,
   "metadata": {},
   "outputs": [],
   "source": [
    "import numpy as np\n",
    "import cupy as cp \n",
    "import scipy.io as sio\n",
    "import scipy.spatial as ssp\n",
    "import matplotlib.pyplot as plt\n",
    "import matplotlib.tri as mtri   \n",
    "import matplotlib.animation as animation\n",
    "import matplotlib as mpl\n",
    "\n",
    "from jupyterthemes import jtplot\n",
    "# onedork | grade3 | oceans16 | chesterish | monokai | solarizedl | solarizedd\n",
    "jtplot.style(theme='onedork', context='talk', fscale=1.4, spines=False, gridlines='--')"
   ]
  },
  {
   "cell_type": "code",
   "execution_count": null,
   "metadata": {},
   "outputs": [],
   "source": [
    "_shape = (742, 20000)\n",
    "_shape_unity = (742,)\n",
    "resolution = 100\n",
    "\n",
    "z = {\n",
    "    'disp': np.memmap('./variables/displacements/timeseries.dat', dtype=np.float32, mode='r+', shape=_shape),\n",
    "    'ptt' : np.memmap('./variables/pistonTipTilt/timeseries.dat', dtype=np.float32, mode='r+', shape=_shape)\n",
    "}\n"
   ]
  },
  {
   "cell_type": "code",
   "execution_count": null,
   "metadata": {},
   "outputs": [],
   "source": [
    "data_path = '../database/bendingmodes'\n",
    "file_name = '/STBM_transformation_matrices.mat'\n",
    "\n",
    "data = sio.loadmat(data_path + file_name)"
   ]
  },
  {
   "cell_type": "code",
   "execution_count": null,
   "metadata": {},
   "outputs": [],
   "source": [
    "points = data['POS_incell'][0,0]\n",
    "tri = ssp.Delaunay(np.array(points))\n",
    "\n",
    "xi = points[:,0].reshape(_shape_unity)\n",
    "yi = points[:,1].reshape(_shape_unity)\n",
    "\n",
    "triang = mtri.Triangulation(xi, yi, tri.simplices.copy())\n",
    "z_values = np.array(z['disp'][:,200]) - np.array(z['ptt'][:,200])\n",
    "z_values = z_values.reshape((_shape[0],))\n",
    "\n",
    "interp_cubic_geom = mtri.CubicTriInterpolator(triang, z_values, kind='geom')\n",
    "xi = np.linspace(xi.min(), xi.max(), resolution)\n",
    "yi = np.linspace(yi.min(), yi.max(), resolution)\n",
    "xii, yii = np.meshgrid(xi, yi)\n",
    "zi_cubic_geom = interp_cubic_geom(xii, yii)\n",
    "\n",
    "z_min, z_max = z['disp'][:,:].min(), z['disp'][:,:].max()\n",
    "\n",
    "plt.figure(figsize=(8,8))\n",
    "plt.contourf(xii, yii, zi_cubic_geom)\n",
    "plt.show()"
   ]
  },
  {
   "cell_type": "code",
   "execution_count": null,
   "metadata": {},
   "outputs": [],
   "source": [
    "Writer = animation.writers['ffmpeg']\n",
    "writer = Writer(fps=20, metadata=dict(artist='Me'), bitrate=1800)"
   ]
  },
  {
   "cell_type": "code",
   "execution_count": null,
   "metadata": {},
   "outputs": [],
   "source": [
    "def animate(index, z_disp, opt, axis):\n",
    "    '''\n",
    "        Use normalized filled contours to represent the image.\n",
    "    '''\n",
    "    proportion = 10**3\n",
    "    if index is None:\n",
    "        print('This index is not real for plotting...')\n",
    "    triang = opt['basic']['triang']\n",
    "    x_axis = opt['basic']['x_axis'] \n",
    "    y_axis = opt['basic']['y_axis']\n",
    "    \n",
    "    if opt['norm']['type'] == 'log':\n",
    "        opt['norm']['max'] = np.log10(opt['norm']['max'])\n",
    "        opt['norm']['min'] = np.log10(opt['norm']['min'])\n",
    "        z_disp[:,index]    = np.log10(z_disp[:,index])\n",
    "    \n",
    "    z_values = np.array(proportion * z_disp[:,index].reshape(z_disp.shape[0],))\n",
    "    interp_cubic_geom = mtri.CubicTriInterpolator(triang, z_values, kind='geom')\n",
    "    zi_cubic_geom = interp_cubic_geom(x_axis, y_axis)\n",
    "    \n",
    "    # Define the possible countours\n",
    "    if opt['norm']['type'] == 'linear':\n",
    "        cont = axis.contourf(x_axis, y_axis, zi_cubic_geom,\n",
    "                              vmin=opt['norm']['min'],\n",
    "                              vmax=opt['norm']['max'],\n",
    "                              levels=25)\n",
    "    elif opt['norm']['type'] == 'log':\n",
    "        cont = axis.contourf(x_axis, y_axis, zi_cubic_geom,\n",
    "                              vmin=opt['norm']['min'],\n",
    "                              vmax=opt['norm']['max'])\n",
    "    elif opt['norm']['type'] == 'concentrated':\n",
    "        cont = axis.contourf(x_axis, y_axis, zi_cubic_geom, levels=25)\n",
    "    else:\n",
    "        print('Error: no contour type found!')\n",
    "    \n",
    "    return cont\n"
   ]
  },
  {
   "cell_type": "code",
   "execution_count": null,
   "metadata": {},
   "outputs": [],
   "source": [
    "_time = 10000 #(s)\n",
    "_jump = 10\n",
    "_mation = list()\n",
    "\n",
    "_opt_i = {\n",
    "    'basic': {\n",
    "        'triang' : triang,\n",
    "        'x_axis' : xii,\n",
    "        'y_axis' : yii,\n",
    "    },\n",
    "    'norm' : {\n",
    "        'type' : 'concentrated',\n",
    "        'min' : z_min,\n",
    "        'max' : z_max,\n",
    "    }\n",
    "}\n",
    "\n",
    "_opt_ii = {\n",
    "    'basic': {\n",
    "        'triang' : triang,\n",
    "        'x_axis' : xii,\n",
    "        'y_axis' : yii,\n",
    "    },\n",
    "    'norm' : {\n",
    "        'type' : 'concentrated',\n",
    "        'min' : z_min,\n",
    "        'max' : z_max,\n",
    "    }\n",
    "}\n"
   ]
  },
  {
   "cell_type": "code",
   "execution_count": null,
   "metadata": {},
   "outputs": [],
   "source": [
    "fig, (ax1, ax2) = plt.subplots(1,2,figsize=(16,8))\n",
    "plt.subplots_adjust(hspace=.0, wspace=.2)\n",
    "\n",
    "z_wtptt = z['disp']-z['ptt']\n",
    "for k in range(0,_time,_jump):\n",
    "    _image1 = animate(k, z['disp'], _opt_i, ax1)\n",
    "    _image2 = animate(k, z_wtptt, _opt_ii, ax2)\n",
    "    _mation.append(_image1.collections + _image2.collections)\n",
    "\n",
    "# Create the displacement\n",
    "cbar1 = fig.colorbar(_image1, ax=ax1, shrink=0.8, spacing='proportional')\n",
    "cbar1.set_label('xE03')\n",
    "\n",
    "ax1.set_aspect('equal')\n",
    "ax1.set_title('Displacements')\n",
    "ax1.set_xlim(xi.min(), xi.max())\n",
    "ax1.set_ylim(yi.min(), yi.max())\n",
    "\n",
    "# Create the piston tip and tilt\n",
    "cbar2 = fig.colorbar(_image2, ax=ax2, shrink=0.8, spacing='proportional')\n",
    "cbar2.set_label('xE03')\n",
    "\n",
    "ax2.set_aspect('equal')\n",
    "ax2.set_title('Piston Tip Tilt')\n",
    "ax2.set_xlim(xi.min(), xi.max())\n",
    "ax2.set_ylim(yi.min(), yi.max())"
   ]
  },
  {
   "cell_type": "code",
   "execution_count": null,
   "metadata": {},
   "outputs": [],
   "source": [
    "ani = animation.ArtistAnimation(fig,_mation,interval=500,repeat=False,blit=True)\n",
    "ani.save('disp_and_ptt_movie.mp4',writer='ffmpeg')\n"
   ]
  },
  {
   "cell_type": "markdown",
   "metadata": {},
   "source": [
    "## Create curve and comparison visualizations\n",
    "---\n"
   ]
  },
  {
   "cell_type": "code",
   "execution_count": null,
   "metadata": {},
   "outputs": [],
   "source": [
    "import numpy as np\n",
    "import matplotlib.pyplot as plt\n",
    "\n",
    "from jupyterthemes import jtplot\n",
    "# onedork | grade3 | oceans16 | chesterish | monokai | solarizedl | solarizedd\n",
    "jtplot.style(theme='onedork', context='talk', fscale=1.4, spines=False, gridlines='--')"
   ]
  },
  {
   "cell_type": "code",
   "execution_count": null,
   "metadata": {},
   "outputs": [],
   "source": [
    "_shape = (742, 20000)\n",
    "_shape_unity = (742,)\n",
    "resolution = 100\n",
    "\n",
    "z = {\n",
    "    'disp': np.memmap('./variables/displacements/timeseries.dat', dtype=np.float32, mode='r+', shape=_shape),\n",
    "    'ptt' : np.memmap('./variables/pistonTipTilt/timeseries.dat', dtype=np.float32, mode='r+', shape=_shape)\n",
    "}\n"
   ]
  },
  {
   "cell_type": "code",
   "execution_count": null,
   "metadata": {},
   "outputs": [],
   "source": [
    "_indexes = [1, 20, 40, 80]\n",
    "\n",
    "fig, ax = plt.subplots(3,1, figsize=(16,16))\n",
    "ax[0].set_title('Displacements')\n",
    "ax[1].set_title('Pirton Tip Tilt')\n",
    "ax[2].set_title('Displacements without Piston Tip Tilt')\n",
    "\n",
    "_cindex = 0\n",
    "for item in _indexes:\n",
    "    _color = 'C' + str(_cindex)\n",
    "    ax[0].plot(z['disp'][item,:], linewidth=3, color=_color)\n",
    "    ax[1].plot(z['ptt'][item,:], linewidth=3, color=_color)\n",
    "    diference = z['disp'][item,:] - z['ptt'][item,:]\n",
    "    ax[2].plot(diference, linewidth=3, color=_color)\n",
    "    _cindex += 1\n",
    "\n",
    "plt.show()"
   ]
  },
  {
   "cell_type": "markdown",
   "metadata": {},
   "source": [
    "## Create bending modes _pos process_\n",
    "---"
   ]
  },
  {
   "cell_type": "code",
   "execution_count": null,
   "metadata": {},
   "outputs": [],
   "source": [
    "import numpy as np\n",
    "import matplotlib.pyplot as plt\n",
    "import matplotlib.animation as animation\n",
    "\n",
    "from jupyterthemes import jtplot\n",
    "# onedork | grade3 | oceans16 | chesterish | monokai | solarizedl | solarizedd\n",
    "jtplot.style(theme='onedork', context='talk', fscale=1.4, spines=False, gridlines='--')"
   ]
  },
  {
   "cell_type": "code",
   "execution_count": null,
   "metadata": {},
   "outputs": [],
   "source": [
    "_segmentId = 1\n",
    "\n",
    "_shape = (742, 20000)\n",
    "_shape_unity = (742,)\n",
    "\n",
    "disp = np.memmap('./variables/displacements/timeseries.dat', \n",
    "                  dtype=np.float32, mode='r+', shape=_shape)\n",
    "\n",
    "ptt = np.memmap('./variables/pistonTipTilt/timeseries.dat', \n",
    "                  dtype=np.float32, mode='r+', shape=_shape)\n",
    "\n",
    "disp_wtptt = disp - ptt"
   ]
  },
  {
   "cell_type": "code",
   "execution_count": null,
   "metadata": {},
   "outputs": [],
   "source": [
    "import scipy.io as sio\n",
    "from utils import LargeCompute\n",
    "\n",
    "data = sio.loadmat('../database/bendingmodes/STBM_transformation_matrices.mat')\n",
    "U_trans = data['U_'][_segmentId-1,0]\n"
   ]
  },
  {
   "cell_type": "code",
   "execution_count": null,
   "metadata": {},
   "outputs": [],
   "source": [
    "\n",
    "lc = LargeCompute(onCuda=True)\n",
    "bmodes = lc.dot_time(U_trans.T, disp_wtptt, varname='bendingmodes')\n",
    "abs_bmodes = np.abs(bmodes[:,:])"
   ]
  },
  {
   "cell_type": "code",
   "execution_count": null,
   "metadata": {},
   "outputs": [],
   "source": [
    "\n",
    "fig = plt.figure(figsize=(16,8))\n",
    "ax = plt.axes(xlim = (0, bmodes.shape[0]),\n",
    "              ylim = (0, abs_bmodes.max()) )\n",
    "line, = ax.plot([], [], lw=3)\n",
    "\n",
    "# initialization function: plot the background of each frame\n",
    "def init():\n",
    "    line.set_data([], [])\n",
    "    return line,\n",
    "\n",
    "# animation function.  This is called sequentially\n",
    "def animate(i, _bmodes):\n",
    "    _size = _bmodes.shape[0]\n",
    "    x = np.array(range(_size))\n",
    "    line.set_data(x, _bmodes[:, i])\n",
    "    return line,\n",
    "\n",
    "# call the animator.  blit=True means only re-draw the parts that have changed.\n",
    "anim = animation.FuncAnimation(fig, animate, init_func=init, fargs=(abs_bmodes,),\n",
    "                               frames=10000, interval=20, blit=True)\n",
    "\n",
    "anim.save('bendingmodes_importance.mp4', writer='ffmpeg')"
   ]
  },
  {
   "cell_type": "code",
   "execution_count": null,
   "metadata": {},
   "outputs": [],
   "source": [
    "fig, (ax1, ax2) = plt.subplots(2, 1, figsize=(16,16))\n",
    "ax1.set_title('Bending modes magnitude')\n",
    "ax2.set_title('Bending modes magnitude variation')\n",
    "_x_data = np.array(range(bmodes.shape[1]))\n",
    "for k in range(bmodes.shape[0]):\n",
    "    ax1.plot(_x_data, bmodes[k,:], lw=3)\n",
    "    ax2.plot(_x_data[:-1], np.diff(bmodes[k,:]), lw=3)\n",
    "plt.show()"
   ]
  },
  {
   "cell_type": "code",
   "execution_count": null,
   "metadata": {},
   "outputs": [],
   "source": [
    "import scipy.signal as scs\n",
    "\n",
    "plt.figure(figsize=(16,8))\n",
    "for k in range(10):\n",
    "    freq_resp = scs.spectrogram(bmodes[k,:], fs=2000)\n",
    "    plt.plot(freq_resp[0], freq_resp[2][:,-1], lw=3)\n",
    "plt.xlabel('Frequency (Hz)')\n",
    "plt.xscale('log')\n",
    "plt.ylabel('Magnitude (dB)')\n",
    "plt.yscale('log')\n",
    "plt.show()"
   ]
  },
  {
   "cell_type": "code",
   "execution_count": null,
   "metadata": {},
   "outputs": [],
   "source": []
  },
  {
   "cell_type": "code",
   "execution_count": 6,
   "metadata": {},
   "outputs": [],
   "source": [
    "class testing:\n",
    "    def __init__(self):\n",
    "        self.a = 3\n",
    "    \n",
    "    def runMethod(self, method, par1):\n",
    "        return method(par1)\n",
    "    \n",
    "    def hasAt(self, at):\n",
    "        return hasattr(self, at)\n",
    "    \n",
    "    def run(self, par):\n",
    "        return self.runMethod(self.hasAt, par)"
   ]
  },
  {
   "cell_type": "code",
   "execution_count": 7,
   "metadata": {},
   "outputs": [],
   "source": [
    "t = testing()"
   ]
  },
  {
   "cell_type": "code",
   "execution_count": 9,
   "metadata": {},
   "outputs": [
    {
     "data": {
      "text/plain": [
       "False"
      ]
     },
     "execution_count": 9,
     "metadata": {},
     "output_type": "execute_result"
    }
   ],
   "source": [
    "t.run('b')"
   ]
  },
  {
   "cell_type": "markdown",
   "metadata": {},
   "source": [
    "## Recover the displacements from bmodes\n",
    "---"
   ]
  },
  {
   "cell_type": "code",
   "execution_count": null,
   "metadata": {},
   "outputs": [],
   "source": [
    "import numpy as np\n",
    "import matplotlib.pyplot as plt\n",
    "import matplotlib.animation as animation\n",
    "\n",
    "from jupyterthemes import jtplot\n",
    "# onedork | grade3 | oceans16 | chesterish | monokai | solarizedl | solarizedd\n",
    "jtplot.style(theme='onedork', context='talk', fscale=1.4, spines=False, gridlines='--')"
   ]
  },
  {
   "cell_type": "code",
   "execution_count": null,
   "metadata": {},
   "outputs": [],
   "source": [
    "_segmentId = 1\n",
    "\n",
    "_shape = (165, 20000)\n",
    "bmodes = np.memmap('./LargeComputeLogs/dot_time/bendingmodes.dat', \n",
    "                  dtype=np.float32, mode='r+', shape=_shape)"
   ]
  },
  {
   "cell_type": "code",
   "execution_count": null,
   "metadata": {},
   "outputs": [],
   "source": [
    "import scipy.io as sio\n",
    "\n",
    "data = sio.loadmat('../database/bendingmodes/STBM_transformation_matrices.mat')\n",
    "U_trans = data['U_'][_segmentId-1,0]"
   ]
  },
  {
   "cell_type": "code",
   "execution_count": null,
   "metadata": {},
   "outputs": [],
   "source": [
    "from utils import LargeCompute\n",
    "\n",
    "lc = LargeCompute(onCuda=True)\n",
    "rec_disp = lc.bm_to_disp_time(U_trans, bmodes, varname='recovered_displacements')"
   ]
  },
  {
   "cell_type": "code",
   "execution_count": null,
   "metadata": {},
   "outputs": [],
   "source": [
    "_shape = (742, 20000)\n",
    "disp =  np.memmap('./variables/displacements/timeseries.dat', \n",
    "                  dtype=np.float32, mode='r+', shape=_shape)\n",
    "\n",
    "ptt =  np.memmap('./variables/pistonTipTilt/timeseries.dat', \n",
    "                  dtype=np.float32, mode='r+', shape=_shape)\n",
    "\n",
    "disp_wtptt = disp - ptt"
   ]
  },
  {
   "cell_type": "code",
   "execution_count": null,
   "metadata": {
    "scrolled": false
   },
   "outputs": [],
   "source": [
    "_indexes = [2, 30, 60, 120]\n",
    "\n",
    "fig, (ax1, ax2, ax3) = plt.subplots(3, 1, figsize=(24,16))\n",
    "ax1.set_title('Displacements computed')\n",
    "ax2.set_title('Displacements recovered')\n",
    "ax3.set_title('Difference from computed and recovered')\n",
    "_cindex = 0\n",
    "for k in _indexes:\n",
    "    color = 'C' + str(_cindex)\n",
    "    ax1.plot(disp_wtptt[k,:], lw=3, c=color, label='Disp.' + str(k))\n",
    "    #ax1.plot(rec_disp[k,:], '--', lw=3, c=color, label='Disp.' + str(k))\n",
    "    ax2.plot(rec_disp[k,:], lw=3, c=color, label='Disp.' + str(k))\n",
    "    ax3.plot(rec_disp[k,:] - disp_wtptt[k,:], lw=3, c=color, label='Disp.' + str(k))\n",
    "    _cindex += 1\n",
    "plt.legend()\n",
    "plt.show()"
   ]
  },
  {
   "cell_type": "markdown",
   "metadata": {},
   "source": [
    "## Check the bending modes movements when just mount moves\n",
    "---"
   ]
  },
  {
   "cell_type": "code",
   "execution_count": null,
   "metadata": {},
   "outputs": [],
   "source": []
  },
  {
   "cell_type": "code",
   "execution_count": null,
   "metadata": {},
   "outputs": [],
   "source": [
    "import scipy.io as sio\n",
    "\n",
    "data = sio.loadmat('../database/matmodels/FEM_IO.mat')"
   ]
  },
  {
   "cell_type": "code",
   "execution_count": null,
   "metadata": {},
   "outputs": [],
   "source": [
    "data"
   ]
  },
  {
   "cell_type": "code",
   "execution_count": null,
   "metadata": {},
   "outputs": [],
   "source": []
  },
  {
   "cell_type": "code",
   "execution_count": null,
   "metadata": {},
   "outputs": [],
   "source": [
    "fig, ax = plt.subplots(1,1,figsize=(8,8))\n",
    "plt.xlim(xi.min(), xi.max())\n",
    "plt.ylim(yi.min(), yi.max())\n",
    "plt.title('Displacements plotting',fontsize=20)\n",
    "\n",
    "ani = animation.FuncAnimation(fig, animate, \n",
    "                            frames=100, \n",
    "                            repeat=True, \n",
    "                            fargs=(z['disp'], _opt_i, ax))\n",
    "ani.save('./animated.mp4')"
   ]
  },
  {
   "cell_type": "code",
   "execution_count": null,
   "metadata": {},
   "outputs": [],
   "source": [
    "fig = plt.figure(figsize=(8,8))\n",
    "plt.xlim(xi.min(), xi.max())\n",
    "plt.ylim(yi.min(), yi.max())\n",
    "plt.title('Displacements plotting',fontsize=20)\n",
    "\n",
    "ani = animation.FuncAnimation(fig, animate, \n",
    "                            frames=100, \n",
    "                            repeat=True, \n",
    "                            fargs=(z['disp'], _opt_i, ax1))\n",
    "ani.save('./animated.mp4')"
   ]
  },
  {
   "cell_type": "code",
   "execution_count": null,
   "metadata": {},
   "outputs": [],
   "source": []
  },
  {
   "cell_type": "code",
   "execution_count": null,
   "metadata": {},
   "outputs": [],
   "source": [
    "from numpy import sin, cos\n",
    "import numpy as np\n",
    "import matplotlib.pyplot as plt\n",
    "import scipy.integrate as integrate\n",
    "import matplotlib.animation as animation\n",
    "\n",
    "G = 9.8  # acceleration due to gravity, in m/s^2\n",
    "L1 = 1.0  # length of pendulum 1 in m\n",
    "L2 = 1.0  # length of pendulum 2 in m\n",
    "M1 = 1.0  # mass of pendulum 1 in kg\n",
    "M2 = 1.0  # mass of pendulum 2 in kg\n",
    "\n",
    "\n",
    "def derivs(state, t):\n",
    "\n",
    "    dydx = np.zeros_like(state)\n",
    "    dydx[0] = state[1]\n",
    "\n",
    "    delta = state[2] - state[0]\n",
    "    den1 = (M1+M2) * L1 - M2 * L1 * cos(delta) * cos(delta)\n",
    "    dydx[1] = ((M2 * L1 * state[1] * state[1] * sin(delta) * cos(delta)\n",
    "                + M2 * G * sin(state[2]) * cos(delta)\n",
    "                + M2 * L2 * state[3] * state[3] * sin(delta)\n",
    "                - (M1+M2) * G * sin(state[0]))\n",
    "               / den1)\n",
    "\n",
    "    dydx[2] = state[3]\n",
    "\n",
    "    den2 = (L2/L1) * den1\n",
    "    dydx[3] = ((- M2 * L2 * state[3] * state[3] * sin(delta) * cos(delta)\n",
    "                + (M1+M2) * G * sin(state[0]) * cos(delta)\n",
    "                - (M1+M2) * L1 * state[1] * state[1] * sin(delta)\n",
    "                - (M1+M2) * G * sin(state[2]))\n",
    "               / den2)\n",
    "\n",
    "    return dydx\n",
    "\n",
    "# create a time array from 0..100 sampled at 0.05 second steps\n",
    "dt = 0.05\n",
    "t = np.arange(0, 20, dt)\n",
    "\n",
    "# th1 and th2 are the initial angles (degrees)\n",
    "# w10 and w20 are the initial angular velocities (degrees per second)\n",
    "th1 = 120.0\n",
    "w1 = 0.0\n",
    "th2 = -10.0\n",
    "w2 = 0.0\n",
    "\n",
    "# initial state\n",
    "state = np.radians([th1, w1, th2, w2])\n",
    "\n",
    "# integrate your ODE using scipy.integrate.\n",
    "y = integrate.odeint(derivs, state, t)\n",
    "\n",
    "x1 = L1*sin(y[:, 0])\n",
    "y1 = -L1*cos(y[:, 0])\n",
    "\n",
    "x2 = L2*sin(y[:, 2]) + x1\n",
    "y2 = -L2*cos(y[:, 2]) + y1\n",
    "\n",
    "fig = plt.figure()\n",
    "ax = fig.add_subplot(111, autoscale_on=False, xlim=(-2, 2), ylim=(-2, 2))\n",
    "ax.set_aspect('equal')\n",
    "ax.grid()\n",
    "\n",
    "line, = ax.plot([], [], 'o-', lw=2)\n",
    "time_template = 'time = %.1fs'\n",
    "time_text = ax.text(0.05, 0.9, '', transform=ax.transAxes)\n",
    "\n",
    "\n",
    "def init():\n",
    "    line.set_data([], [])\n",
    "    time_text.set_text('')\n",
    "    return line, time_text\n",
    "\n",
    "\n",
    "def animate(i):\n",
    "    thisx = [0, x1[i], x2[i]]\n",
    "    thisy = [0, y1[i], y2[i]]\n",
    "\n",
    "    line.set_data(thisx, thisy)\n",
    "    time_text.set_text(time_template % (i*dt))\n",
    "    return line, time_text\n",
    "\n",
    "\n",
    "ani = animation.FuncAnimation(fig, animate, range(1, len(y)),\n",
    "                              interval=dt*1000, blit=True, init_func=init)\n",
    "plt.show()"
   ]
  }
 ],
 "metadata": {
  "kernelspec": {
   "display_name": "Python 3",
   "language": "python",
   "name": "python3"
  },
  "language_info": {
   "codemirror_mode": {
    "name": "ipython",
    "version": 3
   },
   "file_extension": ".py",
   "mimetype": "text/x-python",
   "name": "python",
   "nbconvert_exporter": "python",
   "pygments_lexer": "ipython3",
   "version": "3.7.4"
  }
 },
 "nbformat": 4,
 "nbformat_minor": 2
}
